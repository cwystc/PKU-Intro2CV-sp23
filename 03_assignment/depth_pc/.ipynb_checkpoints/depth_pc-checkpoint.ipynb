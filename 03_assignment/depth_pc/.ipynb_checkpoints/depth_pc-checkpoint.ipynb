{
 "cells": [
  {
   "cell_type": "code",
   "execution_count": 74,
   "metadata": {},
   "outputs": [],
   "source": [
    "import numpy as np\n",
    "import cv2"
   ]
  },
  {
   "cell_type": "code",
   "execution_count": 75,
   "metadata": {},
   "outputs": [
    {
     "name": "stdout",
     "output_type": "stream",
     "text": [
      "[[415.69219382   0.         320.        ]\n",
      " [  0.         415.69219382 240.        ]\n",
      " [  0.           0.           1.        ]]\n"
     ]
    }
   ],
   "source": [
    "# read depth image\n",
    "depth_scale = 0.00012498664727900177\n",
    "depth_img = cv2.imread('depth.png')\n",
    "dpt = depth_img[:, :, 2] + depth_img[:, :, 1] * 256\n",
    "dpt = dpt * depth_scale\n",
    "\n",
    "# read seg image\n",
    "seg = cv2.imread('seg.png')[...,0]  # 255: fore ground, 0: background\n",
    "\n",
    "# read intrinsics and extrinsics\n",
    "K = np.load('intrinsic.npy')\n",
    "print(K)"
   ]
  },
  {
   "cell_type": "code",
   "execution_count": 76,
   "metadata": {},
   "outputs": [],
   "source": [
    "# task1: convert depth image to point cloud\n",
    "def depth2pc(depth, seg, K):\n",
    "    # ------------TODO---------------\n",
    "    # compute point cloud from depth image\n",
    "    # for-loop is not allowed!!\n",
    "    # ------------TODO --------------\n",
    "    row = np.broadcast_to(np.arange(depth.shape[0]).reshape((depth.shape[0], 1)), depth.shape)\n",
    "    col = np.broadcast_to(np.arange(depth.shape[1]), depth.shape)\n",
    "    \n",
    "    \n",
    "    u = col[seg == 255]\n",
    "    v = row[seg == 255]\n",
    "    z = depth[seg == 255]\n",
    "    \n",
    "    A_00 = K[0, 0] - u * K[2, 0]\n",
    "    A_01 = K[0, 1] - u * K[2, 1]\n",
    "    A_10 = K[1, 0] - v * K[2, 0]\n",
    "    A_11 = K[1, 1] - v * K[2, 1]\n",
    "    B_0 = u * z * K[2, 2] - K[0, 2] * z\n",
    "    B_1 = v * z * K[2, 2] - K[1, 2] * z\n",
    "    x = (A_11 * B_0 - A_01 * B_1) / (A_00 * A_11 - A_01 * A_10)\n",
    "    y = (A_00 * B_1 - A_10 * B_0) / (A_00 * A_11 - A_01 * A_10)\n",
    "#     c_x = K[0, 2]\n",
    "#     c_y = K[1, 2]\n",
    "#     alpha = K[0, 0]\n",
    "#     beta = K[1, 1]\n",
    "#     x = (u - c_x) * z / alpha\n",
    "#     y = (v - c_y) * z / beta\n",
    "    \n",
    "    pc = np.zeros((x.shape[0], 3))\n",
    "    pc[:, 0] = x\n",
    "    pc[:, 1] = y\n",
    "    pc[:, 2] = z\n",
    "    return pc\n",
    "\n",
    "partial_pc = depth2pc(dpt, seg, K)\n",
    "\n",
    "# For debug and submission\n",
    "np.savetxt('../results/pc_from_depth.txt', partial_pc)"
   ]
  },
  {
   "cell_type": "code",
   "execution_count": 77,
   "metadata": {},
   "outputs": [
    {
     "name": "stdout",
     "output_type": "stream",
     "text": [
      "one way chamfer distance:  [0.01015873]\n"
     ]
    }
   ],
   "source": [
    "# task2: compute one-way chamfer distance to the complete shape\n",
    "full_pc = np.loadtxt('aligned_full_pc.txt')\n",
    "\n",
    "def random_sample(pc, num):\n",
    "    permu = np.random.permutation(pc.shape[0])\n",
    "    return pc[permu][:num]\n",
    "\n",
    "partial_pc_sampled = random_sample(partial_pc, 2048)\n",
    "full_pc_sampled = random_sample(full_pc, 2048)\n",
    "\n",
    "# -----------TODO---------------\n",
    "# implement one way chamfer distance\n",
    "# -----------TODO---------------\n",
    "one_way_CD = 0\n",
    "dis = np.linalg.norm(np.reshape(partial_pc_sampled, (partial_pc_sampled.shape[0], 1, 3)) - full_pc_sampled, axis = 2)\n",
    "one_way_CD = np.reshape(np.average(np.amin(dis, axis = 1), axis = 0), (1, ))\n",
    "print('one way chamfer distance: ', one_way_CD)\n",
    "# reference: one way chamfer distance:  0.009976257336995639\n",
    "# For submission\n",
    "np.savetxt('../results/one_way_CD.txt', one_way_CD)"
   ]
  },
  {
   "cell_type": "code",
   "execution_count": null,
   "metadata": {},
   "outputs": [],
   "source": []
  }
 ],
 "metadata": {
  "interpreter": {
   "hash": "b4ffbbff3239a731f5036eedf271342b6e0256ecf54d21a0ffa848ef6f1f16b8"
  },
  "kernelspec": {
   "display_name": "Python 3 (ipykernel)",
   "language": "python",
   "name": "python3"
  },
  "language_info": {
   "codemirror_mode": {
    "name": "ipython",
    "version": 3
   },
   "file_extension": ".py",
   "mimetype": "text/x-python",
   "name": "python",
   "nbconvert_exporter": "python",
   "pygments_lexer": "ipython3",
   "version": "3.9.12"
  }
 },
 "nbformat": 4,
 "nbformat_minor": 2
}
