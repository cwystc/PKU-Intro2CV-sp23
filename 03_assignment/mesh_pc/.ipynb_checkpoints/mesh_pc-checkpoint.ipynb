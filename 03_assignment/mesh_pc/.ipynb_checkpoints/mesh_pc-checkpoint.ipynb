{
 "cells": [
  {
   "cell_type": "code",
   "execution_count": 119,
   "metadata": {},
   "outputs": [],
   "source": [
    "import numpy as np\n",
    "import trimesh\n",
    "import tqdm "
   ]
  },
  {
   "cell_type": "code",
   "execution_count": 120,
   "metadata": {},
   "outputs": [],
   "source": [
    "def uniform_sampling_from_mesh(vertices, faces, sample_num):\n",
    "    # -------- TODO -----------\n",
    "    # 1. compute area of each triangles\n",
    "    # 2. compute probability of each triangles from areas\n",
    "    # 3. sample N faces according to the probability\n",
    "    # 4. for each face, sample 1 point\n",
    "    # Note that FOR-LOOP is not allowed!\n",
    "    # -------- TODO -----------\n",
    "    p0 = vertices[faces[:, 0], :]\n",
    "    vec1 = vertices[faces[:, 1], :] - vertices[faces[:, 0], :]\n",
    "    vec2 = vertices[faces[:, 2], :] - vertices[faces[:, 0], :]\n",
    "    area = 0.5 * np.linalg.norm(np.cross(vec1, vec2), axis=1)\n",
    "    prob = area / np.sum(area)\n",
    "    faces_sampled = np.random.choice(faces.shape[0], sample_num, p=prob)\n",
    "    u, v = np.random.rand(sample_num), np.random.rand(sample_num)\n",
    "    u, v = np.where(u + v <= 1 , u, 1 - u), np.where(u + v <= 1 , v, 1 - v)\n",
    "    uniform_pc = p0[faces_sampled, :] + np.reshape(u, (u.shape[0], 1)) * vec1[faces_sampled, :] + np.reshape(v, (v.shape[0], 1)) * vec2[faces_sampled, :]\n",
    "    return area, prob, uniform_pc\n",
    "        "
   ]
  },
  {
   "cell_type": "code",
   "execution_count": 121,
   "metadata": {},
   "outputs": [],
   "source": [
    "def farthest_point_sampling(pc, sample_num):\n",
    "    # -------- TODO -----------\n",
    "    # FOR LOOP is allowed here.\n",
    "    # -------- TODO -----------\n",
    "    fps = [np.random.randint(pc.shape[0])]\n",
    "    dis = np.linalg.norm(pc - pc[fps[0], :], axis=1)\n",
    "    u = (np.arange(pc.shape[0]) == fps[0])\n",
    "    for _ in range(1, sample_num, 1):\n",
    "        idx = np.argmax(dis)\n",
    "        fps.append(idx)\n",
    "        u[idx] = True\n",
    "        dis = np.minimum(dis, np.linalg.norm(pc - pc[idx, :], axis=1))\n",
    "    results = pc[fps, :]\n",
    "    return results"
   ]
  },
  {
   "cell_type": "code",
   "execution_count": 122,
   "metadata": {},
   "outputs": [
    {
     "name": "stdout",
     "output_type": "stream",
     "text": [
      "faces shape:  (13712, 3)\n",
      "area shape:  (13712,)\n",
      "prob shape:  (13712,)\n",
      "pc shape:  (512, 3)\n"
     ]
    }
   ],
   "source": [
    "# task 1: uniform sampling \n",
    "\n",
    "obj_path = 'spot.obj'\n",
    "mesh = trimesh.load(obj_path)\n",
    "print('faces shape: ', mesh.faces.shape)\n",
    "sample_num = 512\n",
    "area, prob, uniform_pc = uniform_sampling_from_mesh(mesh.vertices, mesh.faces, sample_num)\n",
    "\n",
    "# Visualization. For you to check your code\n",
    "np.savetxt('uniform_sampling_vis.txt', uniform_pc)\n",
    "\n",
    "print('area shape: ',area.shape)\n",
    "print('prob shape: ',prob.shape)\n",
    "print('pc shape: ',uniform_pc.shape)\n",
    "# the result should satisfy: \n",
    "#       area.shape = (13712, ) \n",
    "#       prob.shape = (13712, ) \n",
    "#       uniform_pc.shape = (512, 3) \n",
    "\n",
    "# For submission\n",
    "save_dict = {'area': area, 'prob': prob, 'pc': uniform_pc}\n",
    "np.save('../results/uniform_sampling_results', save_dict)"
   ]
  },
  {
   "cell_type": "code",
   "execution_count": 123,
   "metadata": {},
   "outputs": [],
   "source": [
    "# task 2: FPS\n",
    "\n",
    "init_sample_num = 2000\n",
    "final_sample_num = 512\n",
    "_,_, tmp_pc = uniform_sampling_from_mesh(mesh.vertices, mesh.faces, init_sample_num)\n",
    "fps_pc = farthest_point_sampling(tmp_pc, final_sample_num)\n",
    "\n",
    "# Visualization. For you to check your code\n",
    "np.savetxt('fps_vis.txt', fps_pc)\n",
    "\n",
    "# For submission\n",
    "np.save('../results/fps_results', fps_pc)"
   ]
  },
  {
   "cell_type": "code",
   "execution_count": 124,
   "metadata": {},
   "outputs": [
    {
     "name": "stdout",
     "output_type": "stream",
     "text": [
      "1.3884228529136031 0.0002291958584138996 2.4587069497924663 0.008586021589384776\n"
     ]
    }
   ],
   "source": [
    "# task 3: metrics\n",
    "\n",
    "import scipy\n",
    "from scipy.optimize import linear_sum_assignment\n",
    "# -----------TODO---------------\n",
    "# compute chamfer distance and EMD for two point clouds sampled by uniform sampling and FPS.\n",
    "# sample and compute CD and EMD again. repeat for five times.\n",
    "# save the mean and var.\n",
    "# -----------TODO---------------\n",
    "\n",
    "CD_mean = 0\n",
    "CD_var = 0\n",
    "EMD_mean = 0\n",
    "EMD_var = 0\n",
    "rep_num = 5\n",
    "CD = np.zeros((rep_num,))\n",
    "EMD = np.zeros((rep_num, ))\n",
    "for rp in range(rep_num):\n",
    "    _,_, uniform_pc = uniform_sampling_from_mesh(mesh.vertices, mesh.faces, sample_num)\n",
    "    _,_, tmp_pc = uniform_sampling_from_mesh(mesh.vertices, mesh.faces, init_sample_num)\n",
    "    fps_pc = farthest_point_sampling(tmp_pc, final_sample_num)\n",
    "    \n",
    "    dis = np.linalg.norm(np.reshape(uniform_pc, (uniform_pc.shape[0], 1, 3)) - fps_pc, axis=2)\n",
    "    CD[rp] = (np.average(np.amin(dis, axis=1)) + np.average(np.amin(dis, axis=0))) * 0.5\n",
    "    row_ind, col_ind = linear_sum_assignment(dis)\n",
    "    EMD[rp] = np.average(dis[row_ind, col_ind])\n",
    "\n",
    "CD_mean = np.mean(CD)\n",
    "CD_var = np.var(CD)\n",
    "EMD_mean = np.mean(EMD)\n",
    "EMD_var = np.var(EMD)\n",
    "print(CD_mean, CD_var, EMD_mean, EMD_var)\n",
    "\n",
    "# For submission\n",
    "np.save('../results/metrics', {'CD_mean':CD_mean, 'CD_var':CD_var, 'EMD_mean':EMD_mean, 'EMD_var':EMD_var})"
   ]
  },
  {
   "cell_type": "code",
   "execution_count": null,
   "metadata": {},
   "outputs": [],
   "source": []
  }
 ],
 "metadata": {
  "interpreter": {
   "hash": "b99e030e7d8517218fe5297eb937f74701cfa6fd19eb7299fb48d65d491617c9"
  },
  "kernelspec": {
   "display_name": "Python 3 (ipykernel)",
   "language": "python",
   "name": "python3"
  },
  "language_info": {
   "codemirror_mode": {
    "name": "ipython",
    "version": 3
   },
   "file_extension": ".py",
   "mimetype": "text/x-python",
   "name": "python",
   "nbconvert_exporter": "python",
   "pygments_lexer": "ipython3",
   "version": "3.9.12"
  }
 },
 "nbformat": 4,
 "nbformat_minor": 2
}
