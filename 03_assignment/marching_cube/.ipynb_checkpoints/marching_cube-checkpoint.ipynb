{
 "cells": [
  {
   "cell_type": "code",
   "execution_count": 35,
   "metadata": {},
   "outputs": [],
   "source": [
    "import numpy as np\n",
    "from lookup_table import CaseNum2EdgeOffset, getCaseNum\n",
    "import trimesh\n",
    "import os\n",
    "import time"
   ]
  },
  {
   "cell_type": "code",
   "execution_count": 36,
   "metadata": {},
   "outputs": [],
   "source": [
    "def marching_cube(thres,cells):\n",
    "    # vertices use dictionary to avoid duplicate axes\n",
    "    vertex_array = {}\n",
    "    face_array = []\n",
    "    t1 = time.time()\n",
    "    # -------------------TODO------------------ \n",
    "    # compute vertices and faces\n",
    "    # vertices: [N, 3]\n",
    "    # faces: [M, 3], e.g. np.array([[0,1,2]]) means a triangle composed of vertices[0], vertices[1] and vertices[2]\n",
    "    # for-loop is allowed to reduce difficulty\n",
    "    # -------------------TODO------------------ \n",
    "    for x in range(cells.shape[0]-1):\n",
    "        for y in range(cells.shape[1]-1):\n",
    "            for z in range(cells.shape[2]-1):\n",
    "                case_nums = getCaseNum(x, y, z, thres, cells)\n",
    "                tmp = []\n",
    "                for case_num in case_nums:\n",
    "                    if case_num == -1:\n",
    "                        continue\n",
    "                    corner0 = (x+CaseNum2EdgeOffset[case_num][0],y+CaseNum2EdgeOffset[case_num][1],z+CaseNum2EdgeOffset[case_num][2])\n",
    "                    corner1 = (x+CaseNum2EdgeOffset[case_num][3],y+CaseNum2EdgeOffset[case_num][4],z+CaseNum2EdgeOffset[case_num][5])\n",
    "                    xp,yp,zp = (-cells[corner0])/(cells[corner1]-cells[corner0]) * (np.array(corner1) - np.array(corner0)) + np.array(corner0)\n",
    "                    if vertex_array.get((xp, yp, zp)) == None:\n",
    "                        vertex_array[(xp, yp, zp)] = len(vertex_array)\n",
    "                    tmp.append(vertex_array[(xp, yp, zp)])\n",
    "                    if len(tmp) == 3:\n",
    "                        face_array.append(tmp)\n",
    "                        tmp = []\n",
    "    l = np.zeros((len(vertex_array), 3))\n",
    "    for key, value in vertex_array.items():\n",
    "        l[value, :] = key\n",
    "    vertex_array = l\n",
    "    t2 = time.time()\n",
    "    print(\"\\nTime taken by algorithm\\n\"+'-'*40+\"\\n{} s\".format(t2-t1))\n",
    "    \n",
    "    return np.array(vertex_array), np.array(face_array)"
   ]
  },
  {
   "cell_type": "code",
   "execution_count": 37,
   "metadata": {},
   "outputs": [
    {
     "name": "stdout",
     "output_type": "stream",
     "text": [
      "\n",
      "Time taken by algorithm\n",
      "----------------------------------------\n",
      "4.193957090377808 s\n",
      "\n",
      "Time taken by algorithm\n",
      "----------------------------------------\n",
      "4.3914289474487305 s\n"
     ]
    }
   ],
   "source": [
    "# reconstruct these two animals\n",
    "shape_name_lst = ['spot', 'bob']\n",
    "for shape_name in shape_name_lst:\n",
    "    data = np.load(os.path.join('data', shape_name + '_cell.npy'))\n",
    "    verts, faces = marching_cube(0, data)\n",
    "    mesh = trimesh.Trimesh(vertices=verts, faces=faces)\n",
    "    mesh_txt = trimesh.exchange.obj.export_obj(mesh)\n",
    "    with open(os.path.join('../results', shape_name + '.obj'),\"w\") as fp:\n",
    "        fp.write(mesh_txt)"
   ]
  },
  {
   "cell_type": "code",
   "execution_count": null,
   "metadata": {},
   "outputs": [],
   "source": []
  }
 ],
 "metadata": {
  "interpreter": {
   "hash": "436b5965732ccf282764bcf9546f770885eff9f048ad24ec0c34e8c61e883580"
  },
  "kernelspec": {
   "display_name": "Python 3 (ipykernel)",
   "language": "python",
   "name": "python3"
  },
  "language_info": {
   "codemirror_mode": {
    "name": "ipython",
    "version": 3
   },
   "file_extension": ".py",
   "mimetype": "text/x-python",
   "name": "python",
   "nbconvert_exporter": "python",
   "pygments_lexer": "ipython3",
   "version": "3.9.12"
  }
 },
 "nbformat": 4,
 "nbformat_minor": 2
}
